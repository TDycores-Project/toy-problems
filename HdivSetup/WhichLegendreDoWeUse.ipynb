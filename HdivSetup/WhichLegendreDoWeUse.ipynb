{
 "cells": [
  {
   "cell_type": "markdown",
   "metadata": {},
   "source": [
    "Which Legendre Polynomials Should We Use\n",
    "------\n",
    "\n",
    "I am having trouble constructing the constraint matrix on the diagonal face. The top and bottom are easy, that is done. The question is: which tensor product Legendre polynomials do I use on the diagonal face?"
   ]
  },
  {
   "cell_type": "code",
   "execution_count": 1,
   "metadata": {},
   "outputs": [],
   "source": [
    "from sympy import *\n",
    "import numpy as np\n",
    "x,y,z = symbols('x y z')"
   ]
  },
  {
   "cell_type": "markdown",
   "metadata": {},
   "source": [
    "First I will define the 2nd and 3rd order tensor product Legendre polynomials."
   ]
  },
  {
   "cell_type": "code",
   "execution_count": 2,
   "metadata": {},
   "outputs": [],
   "source": [
    "L = []\n",
    "L.append(legendre(2,x)*legendre(0,z)) # n = 2\n",
    "L.append(legendre(1,x)*legendre(1,z))\n",
    "L.append(legendre(0,x)*legendre(2,z))\n",
    "L.append(legendre(3,x)*legendre(0,z)) # n = 3\n",
    "L.append(legendre(2,x)*legendre(1,z))\n",
    "L.append(legendre(1,x)*legendre(2,z))\n",
    "L.append(legendre(0,x)*legendre(3,z))"
   ]
  },
  {
   "cell_type": "markdown",
   "metadata": {},
   "source": [
    "Then I will define the full hexahedral basis as in (Wheeler, Xue, & Yotov, 2012)"
   ]
  },
  {
   "cell_type": "code",
   "execution_count": 3,
   "metadata": {},
   "outputs": [],
   "source": [
    "def curl(v):\n",
    "    c = []\n",
    "    c.append(  diff(v[2],y)-diff(v[1],z) )\n",
    "    c.append(-(diff(v[2],x)-diff(v[0],z)))\n",
    "    c.append(  diff(v[1],x)-diff(v[0],y) )\n",
    "    return np.asarray(c)\n",
    "\n",
    "P = np.asarray([[1,0,0],\n",
    "                [x,0,0],\n",
    "                [y,0,0],\n",
    "                [z,0,0],\n",
    "                [0,1,0],\n",
    "                [0,x,0],\n",
    "                [0,y,0],\n",
    "                [0,z,0],\n",
    "                [0,0,1],\n",
    "                [0,0,x],\n",
    "                [0,0,y],\n",
    "                [0,0,z]])\n",
    "P = np.vstack([P,curl([0       ,0       ,x*y*z   ])])\n",
    "P = np.vstack([P,curl([0       ,0       ,x*y**2  ])])\n",
    "P = np.vstack([P,curl([0       ,0       ,x**2*z  ])])\n",
    "P = np.vstack([P,curl([0       ,0       ,x**2*y*z])])\n",
    "P = np.vstack([P,curl([x*y*z   ,0       ,0       ])])\n",
    "P = np.vstack([P,curl([y*z**2  ,0       ,0       ])])\n",
    "P = np.vstack([P,curl([x*y**2  ,0       ,0       ])])\n",
    "P = np.vstack([P,curl([x*y**2*z,0       ,0       ])])\n",
    "P = np.vstack([P,curl([0       ,x*y*z   ,0       ])])\n",
    "P = np.vstack([P,curl([0       ,x**2*z  ,0       ])])\n",
    "P = np.vstack([P,curl([0       ,y*z**2  ,0       ])])\n",
    "P = np.vstack([P,curl([0       ,x*y*z**2,0       ])])"
   ]
  },
  {
   "cell_type": "markdown",
   "metadata": {},
   "source": [
    "In order to see what space we span on the diagonal, I dot the space with the outward unit normal of the diagonal face and then set $y=-x$ (is there something wrong with this approach? Or do I need to rotate the coordinate system?). Then I will print each basis in order to see which terms we need to eliminate with the constraint matrix of (Kirby 2004)."
   ]
  },
  {
   "cell_type": "code",
   "execution_count": 4,
   "metadata": {},
   "outputs": [
    {
     "name": "stdout",
     "output_type": "stream",
     "text": [
      " 1                  x\n",
      " 2                 -x\n",
      " 3                  z\n",
      " 5                  x\n",
      " 6                 -x\n",
      " 7                  z\n",
      " 9                  0\n",
      "10                  0\n",
      "11                  0\n",
      "12              2*x*z\n",
      "13            -3*x**2\n",
      "14             -2*x*z\n",
      "15           3*x**2*z\n",
      "16              -x**2\n",
      "17             -2*x*z\n",
      "18                  0\n",
      "19               x**3\n",
      "20               x**2\n",
      "21              -x**2\n",
      "22              2*x*z\n",
      "23           2*x**2*z\n"
     ]
    }
   ],
   "source": [
    "diag = np.dot(P,[1,1,0])\n",
    "for i in range(diag.size):\n",
    "    if type(diag[i]) == type(0): continue\n",
    "    diag[i] = diag[i].subs({y:-x})\n",
    "    print(\"%2d %18s\" % (i,diag[i]))"
   ]
  },
  {
   "cell_type": "markdown",
   "metadata": {},
   "source": [
    "From this list, I see $x^2$ terms in bases 13, 16, 20, and 21, $x^2z$ terms in 15 and 23, and $x^3$ terms in basis 19. Like Jed said in his mail, I don't see the terms $z^2$ or $x z^2$. So as I understand it, I need to find Legendre polynomials which are not orthogonal to these terms, but are orthogonal to $1,x,z,xz$. So I will just brute force this by checking the integral is 0."
   ]
  },
  {
   "cell_type": "code",
   "execution_count": 5,
   "metadata": {},
   "outputs": [
    {
     "name": "stdout",
     "output_type": "stream",
     "text": [
      "The following set of Legendre polynomials are needed:\n",
      "3*x**2/2 - 1/2\n",
      "z*(3*x**2/2 - 1/2)\n",
      "5*x**3/2 - 3*x/2\n"
     ]
    }
   ],
   "source": [
    "ind = []\n",
    "for i in [13,15,16,19,20,21,23]:\n",
    "    for j in range(len(L)):\n",
    "        I = integrate(integrate(diag[i]*L[j],(x,-1,1)),(z,-1,1))\n",
    "        if I == 0: continue  # orthogonal\n",
    "        if j not in ind: ind.append(j)\n",
    "print(\"The following set of Legendre polynomials are needed:\")\n",
    "for i in ind:\n",
    "    print(L[i])\n"
   ]
  },
  {
   "cell_type": "markdown",
   "metadata": {},
   "source": [
    "So from this I see that 3 Legendre polynomials are sufficient to remove the unwanted terms. This, plus the two on the top faces, leaves me with 5 constraint equations. This is still one fewer than I expected. Have I made a mistake? From where might the last equation come? "
   ]
  },
  {
   "cell_type": "code",
   "execution_count": null,
   "metadata": {},
   "outputs": [],
   "source": []
  }
 ],
 "metadata": {
  "kernelspec": {
   "display_name": "Python 3",
   "language": "python",
   "name": "python3"
  },
  "language_info": {
   "codemirror_mode": {
    "name": "ipython",
    "version": 3
   },
   "file_extension": ".py",
   "mimetype": "text/x-python",
   "name": "python",
   "nbconvert_exporter": "python",
   "pygments_lexer": "ipython3",
   "version": "3.7.3"
  }
 },
 "nbformat": 4,
 "nbformat_minor": 2
}
