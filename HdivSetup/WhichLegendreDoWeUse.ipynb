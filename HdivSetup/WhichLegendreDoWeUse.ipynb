{
 "cells": [
  {
   "cell_type": "markdown",
   "metadata": {},
   "source": [
    "Which Legendre Polynomials Should We Use\n",
    "------\n",
    "\n",
    "I am having trouble constructing the constraint matrix on the diagonal face. The top and bottom are easy, that is done. The question is: which tensor product Legendre polynomials do I use on the diagonal face?"
   ]
  },
  {
   "cell_type": "code",
   "execution_count": 16,
   "metadata": {},
   "outputs": [],
   "source": [
    "from sympy import *\n",
    "import numpy as np\n",
    "x,y,z,s,t = symbols('x y z s t')"
   ]
  },
  {
   "cell_type": "markdown",
   "metadata": {},
   "source": [
    "First I will define the 2nd and 3rd order tensor product Legendre polynomials in $s,z$, the coordinates of the diagonal plane."
   ]
  },
  {
   "cell_type": "code",
   "execution_count": 17,
   "metadata": {},
   "outputs": [],
   "source": [
    "L = []\n",
    "L.append(legendre(2,s)*legendre(0,z)) # n = 2\n",
    "L.append(legendre(1,s)*legendre(1,z))\n",
    "L.append(legendre(0,s)*legendre(2,z))\n",
    "L.append(legendre(3,s)*legendre(0,z)) # n = 3\n",
    "L.append(legendre(2,s)*legendre(1,z))\n",
    "L.append(legendre(1,s)*legendre(2,z))\n",
    "L.append(legendre(0,s)*legendre(3,z))"
   ]
  },
  {
   "cell_type": "markdown",
   "metadata": {},
   "source": [
    "Then I will define the full hexahedral basis as in (Wheeler, Xue, & Yotov, 2012) and use it as a prime basis $P$."
   ]
  },
  {
   "cell_type": "code",
   "execution_count": 15,
   "metadata": {},
   "outputs": [
    {
     "name": "stdout",
     "output_type": "stream",
     "text": [
      "P[ 0] = [         1,          0,          0]\n",
      "P[ 1] = [         x,          0,          0]\n",
      "P[ 2] = [         y,          0,          0]\n",
      "P[ 3] = [         z,          0,          0]\n",
      "P[ 4] = [         0,          1,          0]\n",
      "P[ 5] = [         0,          x,          0]\n",
      "P[ 6] = [         0,          y,          0]\n",
      "P[ 7] = [         0,          z,          0]\n",
      "P[ 8] = [         0,          0,          1]\n",
      "P[ 9] = [         0,          0,          x]\n",
      "P[10] = [         0,          0,          y]\n",
      "P[11] = [         0,          0,          z]\n",
      "P[12] = [       x*z,       -y*z,          0]\n",
      "P[13] = [     2*x*y,      -y**2,          0]\n",
      "P[14] = [         0,     -2*x*z,          0]\n",
      "P[15] = [    x**2*z,   -2*x*y*z,          0]\n",
      "P[16] = [         0,        x*y,       -x*z]\n",
      "P[17] = [         0,      2*y*z,      -z**2]\n",
      "P[18] = [         0,          0,     -2*x*y]\n",
      "P[19] = [         0,     x*y**2,   -2*x*y*z]\n",
      "P[20] = [      -x*y,          0,        y*z]\n",
      "P[21] = [     -x**2,          0,      2*x*z]\n",
      "P[22] = [    -2*y*z,          0,          0]\n",
      "P[23] = [  -2*x*y*z,          0,     y*z**2]\n"
     ]
    }
   ],
   "source": [
    "def curl(v):\n",
    "    c = []\n",
    "    c.append(  diff(v[2],y)-diff(v[1],z) )\n",
    "    c.append(-(diff(v[2],x)-diff(v[0],z)))\n",
    "    c.append(  diff(v[1],x)-diff(v[0],y) )\n",
    "    return np.asarray(c)\n",
    "\n",
    "P = np.asarray([[1,0,0],\n",
    "                [x,0,0],\n",
    "                [y,0,0],\n",
    "                [z,0,0],\n",
    "                [0,1,0],\n",
    "                [0,x,0],\n",
    "                [0,y,0],\n",
    "                [0,z,0],\n",
    "                [0,0,1],\n",
    "                [0,0,x],\n",
    "                [0,0,y],\n",
    "                [0,0,z]])\n",
    "P = np.vstack([P,curl([0       ,0       ,x*y*z   ])])\n",
    "P = np.vstack([P,curl([0       ,0       ,x*y**2  ])])\n",
    "P = np.vstack([P,curl([0       ,0       ,x**2*z  ])])\n",
    "P = np.vstack([P,curl([0       ,0       ,x**2*y*z])])\n",
    "P = np.vstack([P,curl([x*y*z   ,0       ,0       ])])\n",
    "P = np.vstack([P,curl([y*z**2  ,0       ,0       ])])\n",
    "P = np.vstack([P,curl([x*y**2  ,0       ,0       ])])\n",
    "P = np.vstack([P,curl([x*y**2*z,0       ,0       ])])\n",
    "P = np.vstack([P,curl([0       ,x*y*z   ,0       ])])\n",
    "P = np.vstack([P,curl([0       ,x**2*z  ,0       ])])\n",
    "P = np.vstack([P,curl([0       ,y*z**2  ,0       ])])\n",
    "P = np.vstack([P,curl([0       ,x*y*z**2,0       ])])\n",
    "\n",
    "for i in range(P.shape[0]):\n",
    "    print(\"P[%2d] = [%10s, %10s, %10s]\" % (i,P[i,0],P[i,1],P[i,2]))"
   ]
  },
  {
   "cell_type": "markdown",
   "metadata": {},
   "source": [
    "Again, we already know how to remove $xy$ from the top and bottom faces. The question is: what do we need to remove from the diagonal face and how do we accomplish that? So to see what spaces are spanned on that face, we apply a rotation to local coordinates $(x,y,z)\\rightarrow(s,t,z)$ where $s,z$ are two orthogonal directions tangent to the face and $t$ is normal to the face. Then we evaluate $t=0$ and dot by the outward $t$ normal to see the prime basis restricted to this plane."
   ]
  },
  {
   "cell_type": "code",
   "execution_count": 19,
   "metadata": {},
   "outputs": [
    {
     "name": "stdout",
     "output_type": "stream",
     "text": [
      " 0                  0\n",
      " 1                  0\n",
      " 2                  0\n",
      " 3                  0\n",
      " 4                  1\n",
      " 5                  s\n",
      " 6                  s\n",
      " 7                  z\n",
      " 8                  0\n",
      " 9                  0\n",
      "10                  0\n",
      "11                  0\n",
      "12               -s*z\n",
      "13              -s**2\n",
      "14             -2*s*z\n",
      "15          -2*s**2*z\n",
      "16               s**2\n",
      "17              2*s*z\n",
      "18                  0\n",
      "19               s**3\n",
      "20                  0\n",
      "21                  0\n",
      "22                  0\n",
      "23                  0\n"
     ]
    }
   ],
   "source": [
    "Pr = P.copy()\n",
    "for i in range(Pr.shape[0]):\n",
    "    for j in range(Pr.shape[1]):\n",
    "        if type(Pr[i,j]) == type(0): continue\n",
    "        Pr[i,j] = expand(P[i,j].subs({x:s-t,y:s+t})) # rotate\n",
    "diag = np.dot(Pr,[0,1,0]) # positive 't' direction\n",
    "for i in range(diag.size):\n",
    "    if type(diag[i]) != type(0): diag[i] = diag[i].subs({t:0})\n",
    "    print(\"%2d %18s\" % (i,diag[i]))"
   ]
  },
  {
   "cell_type": "markdown",
   "metadata": {},
   "source": [
    "So, as I have noticed before, we see $s^2,s^2z,s^3$ terms in bases 13,15,16,19. As I understand, our goal is to find constraints such that the span on this face is $1,s,z,sz$. So I loop through the 2nd and 3rd order Legendre polynomials for a check on what is orthogonal to these terms."
   ]
  },
  {
   "cell_type": "code",
   "execution_count": 24,
   "metadata": {},
   "outputs": [
    {
     "name": "stdout",
     "output_type": "stream",
     "text": [
      "13 0 integral[(-s**2) (3*s**2/2 - 1/2)] = (-8/15)\n",
      "13 1 integral[(-s**2) (s*z)] = (0)\n",
      "13 2 integral[(-s**2) (3*z**2/2 - 1/2)] = (0)\n",
      "13 3 integral[(-s**2) (5*s**3/2 - 3*s/2)] = (0)\n",
      "13 4 integral[(-s**2) (z*(3*s**2/2 - 1/2))] = (0)\n",
      "13 5 integral[(-s**2) (s*(3*z**2/2 - 1/2))] = (0)\n",
      "13 6 integral[(-s**2) (5*z**3/2 - 3*z/2)] = (0)\n",
      " \n",
      "15 0 integral[(-2*s**2*z) (3*s**2/2 - 1/2)] = (0)\n",
      "15 1 integral[(-2*s**2*z) (s*z)] = (0)\n",
      "15 2 integral[(-2*s**2*z) (3*z**2/2 - 1/2)] = (0)\n",
      "15 3 integral[(-2*s**2*z) (5*s**3/2 - 3*s/2)] = (0)\n",
      "15 4 integral[(-2*s**2*z) (z*(3*s**2/2 - 1/2))] = (-16/45)\n",
      "15 5 integral[(-2*s**2*z) (s*(3*z**2/2 - 1/2))] = (0)\n",
      "15 6 integral[(-2*s**2*z) (5*z**3/2 - 3*z/2)] = (0)\n",
      " \n",
      "16 0 integral[(s**2) (3*s**2/2 - 1/2)] = (8/15)\n",
      "16 1 integral[(s**2) (s*z)] = (0)\n",
      "16 2 integral[(s**2) (3*z**2/2 - 1/2)] = (0)\n",
      "16 3 integral[(s**2) (5*s**3/2 - 3*s/2)] = (0)\n",
      "16 4 integral[(s**2) (z*(3*s**2/2 - 1/2))] = (0)\n",
      "16 5 integral[(s**2) (s*(3*z**2/2 - 1/2))] = (0)\n",
      "16 6 integral[(s**2) (5*z**3/2 - 3*z/2)] = (0)\n",
      " \n",
      "19 0 integral[(s**3) (3*s**2/2 - 1/2)] = (0)\n",
      "19 1 integral[(s**3) (s*z)] = (0)\n",
      "19 2 integral[(s**3) (3*z**2/2 - 1/2)] = (0)\n",
      "19 3 integral[(s**3) (5*s**3/2 - 3*s/2)] = (8/35)\n",
      "19 4 integral[(s**3) (z*(3*s**2/2 - 1/2))] = (0)\n",
      "19 5 integral[(s**3) (s*(3*z**2/2 - 1/2))] = (0)\n",
      "19 6 integral[(s**3) (5*z**3/2 - 3*z/2)] = (0)\n",
      " \n",
      "The following set of Legendre polynomials are needed:\n",
      "0 3*s**2/2 - 1/2\n",
      "4 z*(3*s**2/2 - 1/2)\n",
      "3 5*s**3/2 - 3*s/2\n"
     ]
    }
   ],
   "source": [
    "ind = []\n",
    "for i in [13,15,16,19]:\n",
    "    for j in range(len(L)):\n",
    "        I = integrate(integrate(diag[i]*L[j],(s,-1,1)),(z,-1,1))\n",
    "        print(\"%d %d integral[(%s) (%s)] = (%s)\" % (i,j,diag[i],L[j],I))\n",
    "        if I == 0: continue  # orthogonal        \n",
    "        if j not in ind: ind.append(j)\n",
    "    print(\" \")\n",
    "print(\"The following set of Legendre polynomials are needed:\")\n",
    "for i in ind:\n",
    "    print(i,L[i])"
   ]
  },
  {
   "cell_type": "markdown",
   "metadata": {},
   "source": [
    "We have 3 terms to remove and it requires just 3 functions, but we need 1 more restriction or the SVD will have a 0 eigenvalue."
   ]
  },
  {
   "cell_type": "code",
   "execution_count": null,
   "metadata": {},
   "outputs": [],
   "source": []
  }
 ],
 "metadata": {
  "kernelspec": {
   "display_name": "Python 3",
   "language": "python",
   "name": "python3"
  },
  "language_info": {
   "codemirror_mode": {
    "name": "ipython",
    "version": 3
   },
   "file_extension": ".py",
   "mimetype": "text/x-python",
   "name": "python",
   "nbconvert_exporter": "python",
   "pygments_lexer": "ipython3",
   "version": "3.7.6"
  }
 },
 "nbformat": 4,
 "nbformat_minor": 2
}
