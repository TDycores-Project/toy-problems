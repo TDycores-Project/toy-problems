{
 "cells": [
  {
   "cell_type": "code",
   "execution_count": 78,
   "metadata": {},
   "outputs": [],
   "source": [
    "import numpy as np\n",
    "import matplotlib.pyplot as plt\n",
    "import orthopy,quadpy"
   ]
  },
  {
   "cell_type": "markdown",
   "metadata": {},
   "source": [
    "As a prime basis, we will start with the hexahedral basis from (Wheeler, Xue & Yotov, 2012) which has a dimension of 24."
   ]
  },
  {
   "cell_type": "code",
   "execution_count": 95,
   "metadata": {},
   "outputs": [],
   "source": [
    "def WheelerXueYotov(x,y,z):\n",
    "    V = np.zeros((3,x.size,24))\n",
    "    O = np.zeros(x.size)\n",
    "    for d in range(3):\n",
    "        V[d,:,4*d+0] = np.ones(x.size)\n",
    "        V[d,:,4*d+1] = x\n",
    "        V[d,:,4*d+2] = y\n",
    "        V[d,:,4*d+3] = z\n",
    "    V[...,12] = [     x*z,     -y*z,        O] # curl(0       ,0       ,x*y*z   )\n",
    "    V[...,13] = [   2*x*y,    -y**2,        O] # curl(0       ,0       ,x*y**2  )\n",
    "    V[...,14] = [       O,   -2*x*z,        O] # curl(0       ,0       ,x**2*z  )\n",
    "    V[...,15] = [  x**2*z, -2*x*y*z,        O] # curl(0       ,0       ,x**2*y*z)\n",
    "    V[...,16] = [       O,      x*y,     -x*z] # curl(x*y*z   ,0       ,0       )\n",
    "    V[...,17] = [       O,    2*y*z,    -z**2] # curl(y*z**2  ,0       ,0       )\n",
    "    V[...,18] = [       O,        O,   -2*x*y] # curl(x*y**2  ,0       ,0       )\n",
    "    V[...,19] = [       O,   x*y**2, -2*x*y*z] # curl(x*y**2*z,0       ,0       )\n",
    "    V[...,20] = [    -x*y,        O,      y*z] # curl(0       ,x*y*z   ,0       )\n",
    "    V[...,21] = [   -x**2,        O,    2*x*z] # curl(0       ,x**2*z  ,0       )\n",
    "    V[...,22] = [  -2*y*z,        O,        O] # curl(0       ,y*z**2  ,0       )\n",
    "    V[...,23] = [-2*x*y*z,        O,   y*z**2] # curl(0       ,x*y*z**2,0       ) \n",
    "    return V"
   ]
  },
  {
   "cell_type": "markdown",
   "metadata": {},
   "source": [
    "We have 4 of 6 constraints for this hexahedral space to restrict it to a prismatic space. Here I will construct a constraint matrix which has these 4 constraints as well as moments which effectively remove the terms we want on each face."
   ]
  },
  {
   "cell_type": "code",
   "execution_count": 96,
   "metadata": {},
   "outputs": [],
   "source": [
    "C = np.zeros((22,24))\n",
    "nc = 0"
   ]
  },
  {
   "cell_type": "markdown",
   "metadata": {},
   "source": [
    "### Top Face"
   ]
  },
  {
   "cell_type": "code",
   "execution_count": 97,
   "metadata": {},
   "outputs": [],
   "source": [
    "# quadrature for the top face of the prism\n",
    "scheme = quadpy.triangle.seven_point()\n",
    "quad   = scheme.points @ np.asarray([[-1,-1],[+1,-1],[-1,+1]]) # to cartesian\n",
    "xq,yq  = quad[:,0],quad[:,1]; zq = np.ones(xq.shape)\n",
    "bary   = np.asarray([(xq+1)/2,(yq+1)/2,1-(xq+1)/2-(yq+1)/2]) # to barycentric\n",
    "poly   = orthopy.triangle.tree(bary,3,\"normal\")[2] # orthogonal to {1,x,y} but not {xy}\n",
    "which_poly = 0 # could also be 2, but not 1\n",
    "\n",
    "P = WheelerXueYotov(xq,yq,zq)\n",
    "for j in range(P.shape[2]):\n",
    "    C[0,j] = ((P[...,j].T @ [0,0,+1])*poly[which_poly]  *scheme.weights).sum() # no xy\n",
    "    C[1,j] = ((P[...,j].T @ [0,0,+1])*(np.ones(xq.size))*scheme.weights).sum() # no 1\n",
    "    C[2,j] = ((P[...,j].T @ [0,0,+1])*(              xq)*scheme.weights).sum() # no x\n",
    "    C[3,j] = ((P[...,j].T @ [0,0,+1])*(              yq)*scheme.weights).sum() # no y\n",
    "nc += 4"
   ]
  },
  {
   "cell_type": "markdown",
   "metadata": {},
   "source": [
    "### Bottom Face"
   ]
  },
  {
   "cell_type": "code",
   "execution_count": 98,
   "metadata": {},
   "outputs": [],
   "source": [
    "zq *= -1\n",
    "P   = WheelerXueYotov(xq,yq,zq)\n",
    "for j in range(P.shape[2]):\n",
    "    C[4,j] = ((P[...,j].T @ [0,0,-1])*poly[which_poly]*scheme.weights).sum()   # no xy\n",
    "    C[5,j] = ((P[...,j].T @ [0,0,-1])*(np.ones(xq.size))*scheme.weights).sum() # no 1\n",
    "    C[6,j] = ((P[...,j].T @ [0,0,-1])*(              xq)*scheme.weights).sum() # no x\n",
    "    C[7,j] = ((P[...,j].T @ [0,0,-1])*(              yq)*scheme.weights).sum() # no y\n",
    "nc += 4"
   ]
  },
  {
   "cell_type": "markdown",
   "metadata": {},
   "source": [
    "### Front Face"
   ]
  },
  {
   "cell_type": "code",
   "execution_count": 99,
   "metadata": {},
   "outputs": [],
   "source": [
    "x1d,w1d = np.polynomial.legendre.leggauss(7)\n",
    "x2d,y2d = np.meshgrid(x1d,x1d); x2d = x2d.flatten(); y2d = y2d.flatten()\n",
    "w2d = (w1d[:,np.newaxis]*w1d).flatten()\n",
    "Xq  = np.asarray([-1,-1,-1])[:,np.newaxis] * (0.25*(1-x2d)*(1-y2d))\n",
    "Xq += np.asarray([+1,-1,-1])[:,np.newaxis] * (0.25*(1+x2d)*(1-y2d))\n",
    "Xq += np.asarray([-1,-1,+1])[:,np.newaxis] * (0.25*(1-x2d)*(1+y2d))\n",
    "Xq += np.asarray([+1,-1,+1])[:,np.newaxis] * (0.25*(1+x2d)*(1+y2d))\n",
    "xq  = Xq[0,:]; yq = Xq[1,:]; zq = Xq[2,:]\n",
    "P   = WheelerXueYotov(xq,yq,zq)\n",
    "C[ 8,:] = ((P.T @ [0,-1,0]) * (np.ones(x2d.size)) * w2d).sum(axis=1) # no 1\n",
    "C[ 9,:] = ((P.T @ [0,-1,0]) * (              x2d) * w2d).sum(axis=1) # no s\n",
    "C[10,:] = ((P.T @ [0,-1,0]) * (              y2d) * w2d).sum(axis=1) # no z\n",
    "C[11,:] = ((P.T @ [0,-1,0]) * (          x2d*y2d) * w2d).sum(axis=1) # no s*z\n",
    "nc += 4"
   ]
  },
  {
   "cell_type": "markdown",
   "metadata": {},
   "source": [
    "### Left Face"
   ]
  },
  {
   "cell_type": "code",
   "execution_count": 100,
   "metadata": {},
   "outputs": [],
   "source": [
    "x1d,w1d = np.polynomial.legendre.leggauss(7)\n",
    "x2d,y2d = np.meshgrid(x1d,x1d); x2d = x2d.flatten(); y2d = y2d.flatten()\n",
    "w2d = (w1d[:,np.newaxis]*w1d).flatten()\n",
    "Xq  = np.asarray([-1,+1,-1])[:,np.newaxis] * (0.25*(1-x2d)*(1-y2d))\n",
    "Xq += np.asarray([-1,-1,-1])[:,np.newaxis] * (0.25*(1+x2d)*(1-y2d))\n",
    "Xq += np.asarray([-1,+1,+1])[:,np.newaxis] * (0.25*(1-x2d)*(1+y2d))\n",
    "Xq += np.asarray([-1,-1,+1])[:,np.newaxis] * (0.25*(1+x2d)*(1+y2d))\n",
    "xq  = Xq[0,:]; yq = Xq[1,:]; zq = Xq[2,:]\n",
    "P   = WheelerXueYotov(xq,yq,zq)\n",
    "C[12,:] = ((P.T @ [-1,0,0]) * (np.ones(x2d.size)) * w2d).sum(axis=1) # no 1\n",
    "C[13,:] = ((P.T @ [-1,0,0]) * (              x2d) * w2d).sum(axis=1) # no s\n",
    "C[14,:] = ((P.T @ [-1,0,0]) * (              y2d) * w2d).sum(axis=1) # no z\n",
    "C[15,:] = ((P.T @ [-1,0,0]) * (          x2d*y2d) * w2d).sum(axis=1) # no s*z\n",
    "nc += 4"
   ]
  },
  {
   "cell_type": "markdown",
   "metadata": {},
   "source": [
    "### Diagonal Face"
   ]
  },
  {
   "cell_type": "code",
   "execution_count": 101,
   "metadata": {},
   "outputs": [],
   "source": [
    "x1d,w1d = np.polynomial.legendre.leggauss(7)\n",
    "x2d,y2d = np.meshgrid(x1d,x1d); x2d = x2d.flatten(); y2d = y2d.flatten()\n",
    "w2d = (w1d[:,np.newaxis]*w1d).flatten()\n",
    "poly = orthopy.quadrilateral.tree(np.asarray([x2d,y2d]),3) # on [-1,+1]^2\n",
    "orth = [poly[2][0],poly[3][1]]\n",
    "\n",
    "Xq  = np.asarray([+1,-1,-1])[:,np.newaxis] * (0.25*(1-x2d)*(1-y2d))\n",
    "Xq += np.asarray([-1,+1,-1])[:,np.newaxis] * (0.25*(1+x2d)*(1-y2d))\n",
    "Xq += np.asarray([+1,-1,+1])[:,np.newaxis] * (0.25*(1-x2d)*(1+y2d))\n",
    "Xq += np.asarray([-1,+1,+1])[:,np.newaxis] * (0.25*(1+x2d)*(1+y2d))\n",
    "xq  = Xq[0,:]; yq = Xq[1,:]; zq = Xq[2,:]\n",
    "\n",
    "P   = WheelerXueYotov(xq,yq,zq)\n",
    "s   = 1/np.sqrt(2)\n",
    "C[16,:] = ((P.T @ [s,s,0]) * orth[0] * w2d).sum(axis=1) # no s**2\n",
    "C[17,:] = ((P.T @ [s,s,0]) * orth[1] * w2d).sum(axis=1) # no zs**2\n",
    "C[18,:] = ((P.T @ [s,s,0]) * (np.ones(x2d.size)) * w2d).sum(axis=1) # no 1\n",
    "C[19,:] = ((P.T @ [s,s,0]) * (              x2d) * w2d).sum(axis=1) # no s\n",
    "C[20,:] = ((P.T @ [s,s,0]) * (              y2d) * w2d).sum(axis=1) # no z\n",
    "C[21,:] = ((P.T @ [s,s,0]) * (          x2d*y2d) * w2d).sum(axis=1) # no s*z\n",
    "nc += 6"
   ]
  },
  {
   "cell_type": "code",
   "execution_count": 102,
   "metadata": {},
   "outputs": [
    {
     "data": {
      "image/png": "[encoded data removed]",
      "text/plain": [
       "<Figure size 432x288 with 2 Axes>"
      ]
     },
     "metadata": {
      "needs_background": "light"
     },
     "output_type": "display_data"
    },
    {
     "name": "stdout",
     "output_type": "stream",
     "text": [
      "Singular values: [8.37687358 7.0569892  3.74627962 3.35751189 2.76836448 2.75235423\n",
      " 2.226561   2.06841529 1.92058841 1.44439676 1.25991747 1.21214716\n",
      " 0.76824673 0.64354799 0.59723891 0.51644055 0.49139238 0.40390908\n",
      " 0.30012345 0.22944445 0.06716129 0.06562599]\n"
     ]
    },
    {
     "data": {
      "image/png": "[encoded data removed]",
      "text/plain": [
       "<Figure size 432x288 with 2 Axes>"
      ]
     },
     "metadata": {
      "needs_background": "light"
     },
     "output_type": "display_data"
    }
   ],
   "source": [
    "c = C[:nc]\n",
    "mag = np.abs(c).max()\n",
    "cb = plt.imshow(c,vmin=-mag,vmax=+mag,cmap=\"seismic\")\n",
    "plt.colorbar(cb)\n",
    "plt.title(\"Constraint Matrix C\")\n",
    "plt.show()\n",
    "\n",
    "UL,SL,VL = np.linalg.svd(c)\n",
    "print(\"Singular values:\",SL)\n",
    "\n",
    "VL = VL[nc:,:]\n",
    "mag = np.abs(VL).max()\n",
    "cb = plt.imshow(VL.T,vmin=-mag,vmax=+mag,cmap=\"seismic\")\n",
    "plt.colorbar(cb)\n",
    "plt.title(\"Right singular vectors VL[nc:].T\")\n",
    "plt.show()"
   ]
  }
 ],
 "metadata": {
  "kernelspec": {
   "display_name": "Python 3",
   "language": "python",
   "name": "python3"
  },
  "language_info": {
   "codemirror_mode": {
    "name": "ipython",
    "version": 3
   },
   "file_extension": ".py",
   "mimetype": "text/x-python",
   "name": "python",
   "nbconvert_exporter": "python",
   "pygments_lexer": "ipython3",
   "version": "3.7.6"
  }
 },
 "nbformat": 4,
 "nbformat_minor": 2
}
